{
 "cells": [
  {
   "cell_type": "markdown",
   "metadata": {},
   "source": [
    "### Q1: What is multiprocessing in python? Why is it useful?\n",
    "\n",
    "### Answer:\n",
    "\n",
    "Multiprocessing in Python is a module that supports the creation of multiple processes, allowing for parallel execution of tasks. \n",
    "- It enables a program to utilize the full computational power of the CPU by concurrently executing tasks in separate processes.\n",
    "\n",
    "There are several reasons why multiprocessing is useful:\n",
    "\n",
    "Parallel Execution:\n",
    "- By using multiple processes, multiprocessing allows for parallel execution of tasks.\n",
    "- This can significantly improve the performance of a program, especially on systems with multiple CPU cores.\n",
    "\n",
    "Scalability:\n",
    "- Multiprocessing applications can be easily scaled across multiple processors or multiple machines.  - This means that the application's performance can be improved by adding more resources to the system.\n",
    "\n",
    "Resilience:\n",
    "- If a single process fails, the entire application does not necessarily fail.\n",
    "- This makes multiprocessing applications more resilient to failures and errors\n",
    "\n",
    "\n"
   ]
  },
  {
   "cell_type": "markdown",
   "metadata": {},
   "source": [
    "### Q2: What are the differences between multiprocessing and multithreading? \n",
    "\n",
    "### Answer:\n",
    "Multiprocessing and multithreading are both concurrency techniques used to achieve parallelism\n",
    "\n",
    "Multiprocessing:\n",
    "\n",
    "- Multiprocessing uses separate processes instead of threads.\n",
    "\n",
    "- Each process has its own memory space,so sharing data between processes requires explicit inter-process communication (IPC) mechanisms.\n",
    "\n",
    "- Processes do not share the same global state, which means that when one process changes the global state, it does not affect other processes.\n",
    "\n",
    "- Multiprocessing is particularly useful for CPU-bound tasks where the main task of the process is to perform computationally intensive operations.\n",
    "\n",
    "- Due to the fact that processes do not share memory, context switching between processes can be more expensive than between threads.\n",
    "\n",
    "Multithreading:\n",
    "\n",
    "- Multithreading uses multiple threads within a single process.\n",
    "\n",
    "- Threads share the same memory space, so sharing data between threads is straightforward and efficient.\n",
    "\n",
    "- Threads share the same global state, so when one thread changes the global state, it affects all other threads within the same process.\n",
    "\n",
    "- Multithreading is particularly useful for I/O-bound tasks where the main task of the thread is to wait for data from the network or a file.\n",
    "\n",
    "- Due to the fact that threads share memory, context switching between threads can be more efficient than between processes.\n",
    "\n",
    "- Multithreading can introduce complexities and challenges such as synchronization issues, deadlocks, and race conditions, which need to be handled properly to ensure correct program execution."
   ]
  },
  {
   "cell_type": "markdown",
   "metadata": {},
   "source": [
    "### Q3: Write a python code to create a process using the multiprocessing module.\n",
    "\n",
    "### Answer:\n"
   ]
  },
  {
   "cell_type": "code",
   "execution_count": 14,
   "metadata": {},
   "outputs": [],
   "source": [
    "import multiprocessing\n",
    "\n",
    "def even(n):\n",
    "    for i in range(0,n,2):\n",
    "        print(\"even:\",i)\n"
   ]
  },
  {
   "cell_type": "code",
   "execution_count": 15,
   "metadata": {},
   "outputs": [],
   "source": [
    "def odd(n):\n",
    "    for i in range(1,n,2):\n",
    "        print(\"odd:\",i)\n"
   ]
  },
  {
   "cell_type": "code",
   "execution_count": 16,
   "metadata": {},
   "outputs": [
    {
     "name": "stdout",
     "output_type": "stream",
     "text": [
      "END!\n"
     ]
    }
   ],
   "source": [
    "if __name__==\"__main__\":\n",
    "    prc1 = multiprocessing.Process(target=even, args=(15,))\n",
    "    prc2 = multiprocessing.Process(target=odd, args=(15,))\n",
    "\n",
    "    prc1.start()\n",
    "    prc2.start()\n",
    "    \n",
    "    prc1.join()\n",
    "    prc2.join()\n",
    "    \n",
    "\n",
    "    print(\"END!\")"
   ]
  },
  {
   "cell_type": "markdown",
   "metadata": {},
   "source": [
    "### Q4: What is a multiprocessing pool in python? Why is it used? \n",
    "\n",
    "### Answer:\n",
    "\n",
    "The multiprocessing.Pool class in Python provides a pool of reusable processes for executing tasks concurrently.\n",
    "- It allows tasks to be submitted as functions to the process pool to be executed.\n",
    "\n",
    "- The syntax to create a pool object is multiprocessing.Pool(processes, initializer, initargs, maxtasksperchild, context).\n",
    "- All the arguments are optional.The processes argument represents the number of worker processes you want to create. The default value is obtained by os.cpu_count().\n",
    "\n",
    "- The Pool class is more convenient than manually managing multiple processes because it automatically manages the available processors and threads.\n",
    "- It offers a convenient means of parallelizing the execution of a function across multiple input values, distributing the input data across processes (data parallelism).\n",
    "\n",
    "### Example:"
   ]
  },
  {
   "cell_type": "code",
   "execution_count": 2,
   "metadata": {},
   "outputs": [],
   "source": [
    "import multiprocessing\n",
    "\n",
    "def square(n):\n",
    "    return n**2\n",
    "\n",
    "if __name__ == '__main__':\n",
    "    with multiprocessing.Pool(processes=5) as pool :\n",
    "        out =pool.map(square , [3,4,5,6,6,7,87,8,8])\n",
    "        print(out)"
   ]
  },
  {
   "cell_type": "markdown",
   "metadata": {},
   "source": [
    "### Q5: How can we create a pool of worker processes in python using the multiprocessing module? \n",
    "\n",
    "### Answer:\n",
    "\n"
   ]
  },
  {
   "cell_type": "code",
   "execution_count": 1,
   "metadata": {},
   "outputs": [],
   "source": [
    "import multiprocessing.pool as mp\n",
    "\n",
    "def square(x):\n",
    "  return x * x\n"
   ]
  },
  {
   "cell_type": "code",
   "execution_count": 2,
   "metadata": {},
   "outputs": [],
   "source": [
    "if __name__ == '__main__':\n",
    "    with multiprocessing.Pool(processes=5) as pool :\n",
    "        out =pool.map(square , [3,4,5,6,6,7,87,8,8])\n",
    "        print(out)"
   ]
  },
  {
   "cell_type": "markdown",
   "metadata": {},
   "source": [
    "### Q6 Write a python program to create 4 processes, each process should print a different number using the multiprocessing module in python.\n",
    "\n",
    "### Answer:\n"
   ]
  },
  {
   "cell_type": "code",
   "execution_count": null,
   "metadata": {},
   "outputs": [],
   "source": [
    "from multiprocessing import Process\n",
    "\n",
    "def print_number(number):\n",
    "    print(f'Process {number} is printing: {number}')\n"
   ]
  },
  {
   "cell_type": "code",
   "execution_count": null,
   "metadata": {},
   "outputs": [],
   "source": [
    "if __name__ == '__main__':\n",
    "    processes = []\n",
    "    for i in range(4):\n",
    "        process = Process(target=print_number, args=(i,))\n",
    "        processes.append(process)\n",
    "        process.start()\n",
    "\n",
    "    for process in processes:\n",
    "        process.join()"
   ]
  },
  {
   "cell_type": "markdown",
   "metadata": {},
   "source": [
    "- I define a function print_number(number) that prints the number it receives as an argument.\n",
    "\n",
    "- I create a list processes to hold the Process objects.\n",
    "\n",
    "- In the loop, we create a new Process object for each number from 0 to 3.\n",
    "- The target function of the process is print_number, and the argument is the current number.\n",
    "- I append each Process object to the processes list and start it with process.start().\n",
    "- After starting all processes, we wait for each one to finish with process.join().\n",
    "- This ensures that the main program will not exit until all child processes have finished."
   ]
  }
 ],
 "metadata": {
  "kernelspec": {
   "display_name": "base",
   "language": "python",
   "name": "python3"
  },
  "language_info": {
   "codemirror_mode": {
    "name": "ipython",
    "version": 3
   },
   "file_extension": ".py",
   "mimetype": "text/x-python",
   "name": "python",
   "nbconvert_exporter": "python",
   "pygments_lexer": "ipython3",
   "version": "3.11.4"
  }
 },
 "nbformat": 4,
 "nbformat_minor": 2
}
